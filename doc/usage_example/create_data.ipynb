{
 "cells": [
  {
   "cell_type": "code",
   "execution_count": 1,
   "metadata": {},
   "outputs": [],
   "source": [
    "%matplotlib inline\n",
    "import numpy as np\n",
    "import pandas as pd\n",
    "import random\n",
    "\n",
    "import warnings\n",
    "warnings.filterwarnings('ignore')\n",
    "\n",
    "import time, datetime\n",
    "import re\n",
    "import os\n",
    "\n",
    "import pyodbc\n",
    "import urllib\n",
    "from sqlalchemy import create_engine\n",
    "\n",
    "from model_development import *"
   ]
  },
  {
   "cell_type": "code",
   "execution_count": 2,
   "metadata": {},
   "outputs": [],
   "source": [
    "np.random.seed(16777216)\n",
    "random.seed(16777216)"
   ]
  },
  {
   "cell_type": "code",
   "execution_count": 3,
   "metadata": {},
   "outputs": [],
   "source": [
    "con = 'Driver={SQL Server};Server=;uid=;pwd=;'\n",
    "ch = pyodbc.connect(con)\n",
    "quoted = urllib.parse.quote_plus(con)\n",
    "engine = create_engine('mssql+pyodbc:///?odbc_connect={}'.format(quoted))"
   ]
  },
  {
   "cell_type": "code",
   "execution_count": 4,
   "metadata": {},
   "outputs": [],
   "source": [
    "n_a = 100000\n",
    "n_l = 10"
   ]
  },
  {
   "cell_type": "code",
   "execution_count": 5,
   "metadata": {},
   "outputs": [],
   "source": [
    "appl = pd.DataFrame({'application_id': [i for i in range(n_a)]})"
   ]
  },
  {
   "cell_type": "code",
   "execution_count": 6,
   "metadata": {},
   "outputs": [],
   "source": [
    "appl['year_quarter'] = np.random.choice([20191, 20192, 20193, 20194], n_a, p=[0.25, 0.25, 0.25, 0.25])\n",
    "appl['application_date'] = datetime.date(2019, 1, 1)\n",
    "appl['application_date'][appl['year_quarter'] == 20191] = [datetime.date(2019, 1, 1) + (datetime.date(2019, 3, 31) - datetime.date(2019, 1, 1)) * random.random() for  i in range(n_a)]\n",
    "appl['application_date'][appl['year_quarter'] == 20192] = [datetime.date(2019, 4, 1) + (datetime.date(2019, 6, 30) - datetime.date(2019, 4, 1)) * random.random() for  i in range(n_a)]\n",
    "appl['application_date'][appl['year_quarter'] == 20193] = [datetime.date(2019, 7, 1) + (datetime.date(2019, 9, 30) - datetime.date(2019, 7, 1)) * random.random() for  i in range(n_a)]\n",
    "appl['application_date'][appl['year_quarter'] == 20194] = [datetime.date(2019, 10, 1) + (datetime.date(2019, 12, 31) - datetime.date(2019, 10, 1)) * random.random() for  i in range(n_a)]\n",
    "appl['segment'] = np.random.choice(['АК', 'ИК', 'КК', 'ПК'], n_a, p=[0.1, 0.2, 0.3, 0.4])\n",
    "appl['exist'] = np.random.choice([0, 1], n_a, p=[0.6, 0.4])\n",
    "appl['target'] = 0\n",
    "appl['target'][appl['segment'] == 'АК'] = np.random.choice([0, 1], n_a, p=[0.98, 0.02])\n",
    "appl['target'][appl['segment'] == 'ИК'] = np.random.choice([0, 1], n_a, p=[0.99, 0.01])\n",
    "appl['target'][appl['segment'] == 'КК'] = np.random.choice([0, 1], n_a, p=[0.96, 0.04])\n",
    "appl['target'][(appl['segment'] == 'КК') & (appl['year_quarter'] == 20193)] = np.random.choice([0, 1], n_a, p=[0.92, 0.08])\n",
    "appl['target'][appl['segment'] == 'ПК'] = np.random.choice([0, 1], n_a, p=[0.95, 0.05])\n",
    "appl['target'][(appl['segment'] == 'ПК') & (appl['exist'] == 1)] = np.random.choice([0, 1], n_a, p=[0.98, 0.02])"
   ]
  },
  {
   "cell_type": "code",
   "execution_count": 7,
   "metadata": {},
   "outputs": [],
   "source": [
    "target0 = set(appl['application_id'][appl['target'] == 0])\n",
    "target1 = set(appl['application_id'][appl['target'] == 1])\n",
    "atarget0 = np.array(list(target0))\n",
    "atarget1 = np.array(list(target1))"
   ]
  },
  {
   "cell_type": "code",
   "execution_count": 8,
   "metadata": {},
   "outputs": [],
   "source": [
    "over = pd.DataFrame({'over_application_id': [i for i in range(n_a)]})"
   ]
  },
  {
   "cell_type": "code",
   "execution_count": 9,
   "metadata": {},
   "outputs": [],
   "source": [
    "over['payload'] = [np.clip(np.random.normal(15000, 10000), 0, np.inf) for i in range(n_a)]\n",
    "over['inquiries_1month'] = [np.clip(np.random.normal(4, 2), 0, np.inf) + (np.clip(np.random.normal(3, 2), 0, np.inf) if i in target1 else 0) for i in range(n_a)]\n",
    "over['inquiries_3month'] = [(i + np.random.uniform(0, 1)) * (np.random.normal(2, 0.2) if idx in target1 else np.random.normal(2.2, 0.3)) for idx, i in enumerate(over['inquiries_1month'])]\n",
    "over['inquiries_6month'] = [(i + np.random.uniform(0, 1)) * np.random.normal(1.8, 0.1) for i in over['inquiries_3month']]\n",
    "over['inquiries_9month'] = [(i + np.random.uniform(0, 1)) * np.random.normal(2.7, 0.2) for i in over['inquiries_3month']]\n",
    "over['inquiries_12month'] = [(i + np.random.uniform(0, 1)) * np.random.normal(3.5, 0.3) for i in over['inquiries_3month']]\n",
    "over['inquiries_total'] = [i + (np.random.uniform(0, 1) * np.random.normal(4.5, 1)) for i in over['inquiries_12month']]\n",
    "over['inquiries_1month'] = over['inquiries_1month'].astype(int)\n",
    "over['inquiries_3month'] = over['inquiries_3month'].astype(int)\n",
    "over['inquiries_6month'] = over['inquiries_6month'].astype(int)\n",
    "over['inquiries_9month'] = over['inquiries_9month'].astype(int)\n",
    "over['inquiries_12month'] = over['inquiries_12month'].astype(int)\n",
    "over['inquiries_total'] = over['inquiries_total'].astype(int)"
   ]
  },
  {
   "cell_type": "code",
   "execution_count": 10,
   "metadata": {},
   "outputs": [],
   "source": [
    "loan = pd.DataFrame({'loan_application_id': [i for i in range(n_a)]})\n",
    "al = pd.DataFrame({'loan_id': [i for i in range(n_a * n_l)]})\n",
    "al['loan_application_id'] = [np.random.choice(atarget0, 1)[0] if np.random.random() > 0.02 else np.random.choice(atarget1, 1)[0] for i in range(n_a * n_l)]"
   ]
  },
  {
   "cell_type": "code",
   "execution_count": 11,
   "metadata": {},
   "outputs": [],
   "source": [
    "loan['application_date'] = appl['application_date']\n",
    "loan = loan.merge(al, 'inner', 'loan_application_id')"
   ]
  },
  {
   "cell_type": "code",
   "execution_count": 12,
   "metadata": {},
   "outputs": [],
   "source": [
    "la_id = np.array(loan['loan_application_id'])\n",
    "t0, t1 = [], []\n",
    "prev = 0\n",
    "prev_d0 = datetime.timedelta()\n",
    "prev_d1 = datetime.timedelta()\n",
    "for i in la_id:\n",
    "    if i != prev:\n",
    "        prev = i\n",
    "        prev_d0 = datetime.timedelta()\n",
    "        prev_d1 = datetime.timedelta()\n",
    "    t0 += [prev_d0 + datetime.timedelta(days=(np.clip(int(np.random.normal(155, 72)), 0, np.inf)))]\n",
    "    t1 += [prev_d1 + datetime.timedelta(days=(np.clip(int(np.random.normal(147, 77)), 0, np.inf)))]\n",
    "\n",
    "d = pd.Series([t1[i] if la_id[i] in target1 else t0[i] for i in range(n_a * n_l)])\n",
    "loan['open_date'] = loan['application_date'] - d"
   ]
  },
  {
   "cell_type": "code",
   "execution_count": 13,
   "metadata": {},
   "outputs": [],
   "source": [
    "loan['credit_type'] = [np.random.choice(['auto', 'mort', 'cc', 'pil', 'micro', 'business'], 1, p=[0.1, 0.1, 0.3, 0.4, 0.05, 0.05])[0] if la_id[i] in target1 else np.random.choice(['auto', 'mort', 'cc', 'pil', 'micro', 'business'], 1, p=[0.13, 0.05, 0.2, 0.5, 0.1, 0.02])[0] for i in range(n_a * n_l)]\n",
    "loan['infosource'] = 'zub dayu'"
   ]
  },
  {
   "cell_type": "code",
   "execution_count": 14,
   "metadata": {},
   "outputs": [],
   "source": [
    "loan['payment_string'] = '0'\n",
    "aps = pd.Series([''.join([np.random.choice(['0', '1', '2', '3', '4', '5', '6', '7', '8', '9'], 1, p=[0.05, 0.71, 0.09, 0.05, 0.025, 0.025, 0.02, 0.015, 0.01, 0.005])[0] for j in range(int(min(np.random.uniform(12, 36), d[i].days / 30)))]) if la_id[i] in target1 else ''.join([np.random.choice(['0', '1', '2', '3', '4', '5', '6', '7', '8', '9'], 1, p=[0.05, 0.726, 0.088, 0.048, 0.023, 0.023, 0.018, 0.013, 0.008, 0.003])[0] for j in range(int(min(np.random.uniform(12, 36), d[i].days / 30)))]) for i in range(n_a * n_l)])\n",
    "mps = pd.Series([''.join([np.random.choice(['0', '1', '2', '3', '4', '5', '6', '7', '8', '9'], 1, p=[0.05, 0.71, 0.09, 0.05, 0.025, 0.025, 0.02, 0.015, 0.01, 0.005])[0] for j in range(int(min(np.random.uniform(36, 360), d[i].days / 30)))]) if la_id[i] in target1 else ''.join([np.random.choice(['0', '1', '2', '3', '4', '5', '6', '7', '8', '9'], 1, p=[0.05, 0.742, 0.086, 0.046, 0.021, 0.021, 0.016, 0.011, 0.006, 0.001])[0] for j in range(int(min(np.random.uniform(36, 360), d[i].days / 30)))]) for i in range(n_a * n_l)])\n",
    "cps = pd.Series([''.join([np.random.choice(['0', '1', '2', '3', '4', '5', '6', '7', '8', '9'], 1, p=[0.05, 0.71, 0.09, 0.05, 0.025, 0.025, 0.02, 0.015, 0.01, 0.005])[0] for j in range(int(min(np.random.uniform(1, 12), d[i].days / 30)))]) if la_id[i] in target1 else ''.join([np.random.choice(['0', '1', '2', '3', '4', '5', '6', '7', '8', '9'], 1, p=[0.05, 0.726, 0.088, 0.048, 0.023, 0.023, 0.018, 0.013, 0.008, 0.003])[0] for j in range(int(min(np.random.uniform(1, 12), d[i].days / 30)))]) for i in range(n_a * n_l)])\n",
    "pps = pd.Series([''.join([np.random.choice(['0', '1', '2', '3', '4', '5', '6', '7', '8', '9'], 1, p=[0.05, 0.71, 0.09, 0.05, 0.025, 0.025, 0.02, 0.015, 0.01, 0.005])[0] for j in range(int(min(np.random.uniform(3, 12), d[i].days / 30)))]) if la_id[i] in target1 else ''.join([np.random.choice(['0', '1', '2', '3', '4', '5', '6', '7', '8', '9'], 1, p=[0.05, 0.726, 0.088, 0.048, 0.023, 0.023, 0.018, 0.013, 0.008, 0.003])[0] for j in range(int(min(np.random.uniform(3, 12), d[i].days / 30)))]) for i in range(n_a * n_l)])\n",
    "mips = pd.Series([''.join([np.random.choice(['0', '1', '2', '3', '4', '5', '6', '7', '8', '9'], 1, p=[0.05, 0.71, 0.09, 0.05, 0.025, 0.025, 0.02, 0.015, 0.01, 0.005])[0] for j in range(int(min(np.random.uniform(1, 3), d[i].days / 30)))]) if la_id[i] in target1 else ''.join([np.random.choice(['0', '1', '2', '3', '4', '5', '6', '7', '8', '9'], 1, p=[0.05, 0.726, 0.088, 0.048, 0.023, 0.023, 0.018, 0.013, 0.008, 0.003])[0] for j in range(int(min(np.random.uniform(1, 3), d[i].days / 30)))]) for i in range(n_a * n_l)])\n",
    "bps = pd.Series([''.join([np.random.choice(['0', '1', '2', '3', '4', '5', '6', '7', '8', '9'], 1, p=[0.05, 0.71, 0.09, 0.05, 0.025, 0.025, 0.02, 0.015, 0.01, 0.005])[0] for j in range(int(min(np.random.uniform(12, 360), d[i].days / 30)))]) if la_id[i] in target1 else ''.join([np.random.choice(['0', '1', '2', '3', '4', '5', '6', '7', '8', '9'], 1, p=[0.05, 0.726, 0.088, 0.048, 0.023, 0.023, 0.018, 0.013, 0.008, 0.003])[0] for j in range(int(min(np.random.uniform(12, 360), d[i].days / 30)))]) for i in range(n_a * n_l)])\n",
    "loan['payment_string'][loan['credit_type'] == 'auto'] = aps[loan['credit_type'] == 'auto']\n",
    "loan['payment_string'][loan['credit_type'] == 'mort'] = mps[loan['credit_type'] == 'mort']\n",
    "loan['payment_string'][loan['credit_type'] == 'cc'] = cps[loan['credit_type'] == 'cc']\n",
    "loan['payment_string'][loan['credit_type'] == 'pil'] = pps[loan['credit_type'] == 'pil']\n",
    "loan['payment_string'][loan['credit_type'] == 'micro'] = mips[loan['credit_type'] == 'micro']\n",
    "loan['payment_string'][loan['credit_type'] == 'business'] = bps[loan['credit_type'] == 'business']"
   ]
  },
  {
   "cell_type": "code",
   "execution_count": 15,
   "metadata": {},
   "outputs": [],
   "source": [
    "pay = loan[['loan_id', 'payment_string']]\n",
    "pay.columns = ['pay_loan_id', 'ps']\n",
    "pay['m'] = ((loan['application_date'] - loan['open_date']) / 30).dt.days"
   ]
  },
  {
   "cell_type": "code",
   "execution_count": 16,
   "metadata": {},
   "outputs": [],
   "source": [
    "newc = ['p' + str(i) for i in range(max([len(j) for j in pay['ps']]))]\n",
    "pay['ps'] = pd.Series(['_'.join(i) for i in pay['ps']])\n",
    "pay[newc] = pay['ps'].str.rsplit('_', expand=True)"
   ]
  },
  {
   "cell_type": "code",
   "execution_count": 17,
   "metadata": {},
   "outputs": [],
   "source": [
    "pay = pd.wide_to_long(pay[['pay_loan_id', 'm'] + newc], stubnames='p', i=['pay_loan_id', 'm'], j='pos').reset_index().dropna().reset_index()"
   ]
  },
  {
   "cell_type": "code",
   "execution_count": 18,
   "metadata": {},
   "outputs": [],
   "source": [
    "pay['months_ago'] = pay['m'] - pay['pos']\n",
    "pay['index'] = [i for i in range(pay.shape[0])]"
   ]
  },
  {
   "cell_type": "code",
   "execution_count": 19,
   "metadata": {},
   "outputs": [],
   "source": [
    "pay = pay[['index', 'pay_loan_id', 'months_ago', 'p']][pay['p'] != '']\n",
    "pay.columns = ['payment_id', 'pay_loan_id', 'months_ago', 'payment_status']"
   ]
  },
  {
   "cell_type": "code",
   "execution_count": 20,
   "metadata": {
    "scrolled": true
   },
   "outputs": [],
   "source": [
    "appl.to_sql(name='application',\n",
    "            con=engine, \n",
    "            schema='Modeling.dbo',\n",
    "            if_exists='replace',\n",
    "            index=False)"
   ]
  },
  {
   "cell_type": "code",
   "execution_count": 21,
   "metadata": {},
   "outputs": [],
   "source": [
    "over.to_sql(name='BKI_overview',\n",
    "            con=engine, \n",
    "            schema='Modeling.dbo',\n",
    "            if_exists='replace',\n",
    "            index=False)"
   ]
  },
  {
   "cell_type": "code",
   "execution_count": 22,
   "metadata": {},
   "outputs": [],
   "source": [
    "loan.to_sql(name='BKI_loans',\n",
    "            con=engine, \n",
    "            schema='Modeling.dbo',\n",
    "            if_exists='replace',\n",
    "            index=False, \n",
    "            chunksize=100000)"
   ]
  },
  {
   "cell_type": "code",
   "execution_count": 23,
   "metadata": {},
   "outputs": [],
   "source": [
    "pay.to_sql(name='BKI_payments',\n",
    "           con=engine,\n",
    "           schema='Modeling.dbo',\n",
    "           if_exists='replace',\n",
    "           index=False, \n",
    "           chunksize=100000)"
   ]
  }
 ],
 "metadata": {
  "kernelspec": {
   "display_name": "Python 3",
   "language": "python",
   "name": "python3"
  },
  "language_info": {
   "codemirror_mode": {
    "name": "ipython",
    "version": 3
   },
   "file_extension": ".py",
   "mimetype": "text/x-python",
   "name": "python",
   "nbconvert_exporter": "python",
   "pygments_lexer": "ipython3",
   "version": "3.7.6"
  }
 },
 "nbformat": 4,
 "nbformat_minor": 4
}
